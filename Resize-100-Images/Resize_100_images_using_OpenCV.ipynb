{
  "nbformat": 4,
  "nbformat_minor": 0,
  "metadata": {
    "colab": {
      "provenance": [],
      "include_colab_link": true
    },
    "kernelspec": {
      "name": "python3",
      "display_name": "Python 3"
    },
    "language_info": {
      "name": "python"
    }
  },
  "cells": [
    {
      "cell_type": "markdown",
      "metadata": {
        "id": "view-in-github",
        "colab_type": "text"
      },
      "source": [
        "<a href=\"https://colab.research.google.com/github/anikasoni/Resize-100-images/blob/main/Resize_100_images_using_OpenCV.ipynb\" target=\"_parent\"><img src=\"https://colab.research.google.com/assets/colab-badge.svg\" alt=\"Open In Colab\"/></a>"
      ]
    },
    {
      "cell_type": "code",
      "execution_count": null,
      "metadata": {
        "colab": {
          "base_uri": "https://localhost:8080/"
        },
        "id": "8GdPm6OLfBJy",
        "outputId": "61557da2-2d7a-46fc-9d49-461a966e6857"
      },
      "outputs": [
        {
          "output_type": "stream",
          "name": "stdout",
          "text": [
            "Collecting google_images_search\n",
            "  Downloading Google_Images_Search-1.4.7-py2.py3-none-any.whl (12 kB)\n",
            "Collecting colorama~=0.4 (from google_images_search)\n",
            "  Downloading colorama-0.4.6-py2.py3-none-any.whl (25 kB)\n",
            "Collecting pyfiglet~=0.8 (from google_images_search)\n",
            "  Downloading pyfiglet-0.8.post1-py2.py3-none-any.whl (865 kB)\n",
            "\u001b[2K     \u001b[90m━━━━━━━━━━━━━━━━━━━━━━━━━━━━━━━━━━━━━━━━\u001b[0m \u001b[32m865.8/865.8 kB\u001b[0m \u001b[31m5.0 MB/s\u001b[0m eta \u001b[36m0:00:00\u001b[0m\n",
            "\u001b[?25hCollecting termcolor~=1.1 (from google_images_search)\n",
            "  Downloading termcolor-1.1.0.tar.gz (3.9 kB)\n",
            "  Preparing metadata (setup.py) ... \u001b[?25l\u001b[?25hdone\n",
            "Requirement already satisfied: click<=8.2,>=7.0 in /usr/local/lib/python3.10/dist-packages (from google_images_search) (8.1.7)\n",
            "Requirement already satisfied: six~=1.12 in /usr/local/lib/python3.10/dist-packages (from google_images_search) (1.16.0)\n",
            "Requirement already satisfied: requests~=2.21 in /usr/local/lib/python3.10/dist-packages (from google_images_search) (2.31.0)\n",
            "Requirement already satisfied: Pillow>=8.1.1 in /usr/local/lib/python3.10/dist-packages (from google_images_search) (9.4.0)\n",
            "Collecting python-resize-image~=1.1 (from google_images_search)\n",
            "  Downloading python_resize_image-1.1.20-py2.py3-none-any.whl (8.4 kB)\n",
            "Collecting google-api-python-client~=2.48.0 (from google_images_search)\n",
            "  Downloading google_api_python_client-2.48.0-py2.py3-none-any.whl (8.5 MB)\n",
            "\u001b[2K     \u001b[90m━━━━━━━━━━━━━━━━━━━━━━━━━━━━━━━━━━━━━━━━\u001b[0m \u001b[32m8.5/8.5 MB\u001b[0m \u001b[31m13.3 MB/s\u001b[0m eta \u001b[36m0:00:00\u001b[0m\n",
            "\u001b[?25hRequirement already satisfied: httplib2<1dev,>=0.15.0 in /usr/local/lib/python3.10/dist-packages (from google-api-python-client~=2.48.0->google_images_search) (0.22.0)\n",
            "Requirement already satisfied: google-auth<3.0.0dev,>=1.16.0 in /usr/local/lib/python3.10/dist-packages (from google-api-python-client~=2.48.0->google_images_search) (2.27.0)\n",
            "Requirement already satisfied: google-auth-httplib2>=0.1.0 in /usr/local/lib/python3.10/dist-packages (from google-api-python-client~=2.48.0->google_images_search) (0.1.1)\n",
            "Requirement already satisfied: google-api-core!=2.0.*,!=2.1.*,!=2.2.*,!=2.3.0,<3.0.0dev,>=1.31.5 in /usr/local/lib/python3.10/dist-packages (from google-api-python-client~=2.48.0->google_images_search) (2.16.2)\n",
            "Requirement already satisfied: uritemplate<5,>=3.0.1 in /usr/local/lib/python3.10/dist-packages (from google-api-python-client~=2.48.0->google_images_search) (4.1.1)\n",
            "Requirement already satisfied: charset-normalizer<4,>=2 in /usr/local/lib/python3.10/dist-packages (from requests~=2.21->google_images_search) (3.3.2)\n",
            "Requirement already satisfied: idna<4,>=2.5 in /usr/local/lib/python3.10/dist-packages (from requests~=2.21->google_images_search) (3.7)\n",
            "Requirement already satisfied: urllib3<3,>=1.21.1 in /usr/local/lib/python3.10/dist-packages (from requests~=2.21->google_images_search) (2.0.7)\n",
            "Requirement already satisfied: certifi>=2017.4.17 in /usr/local/lib/python3.10/dist-packages (from requests~=2.21->google_images_search) (2024.7.4)\n",
            "Requirement already satisfied: googleapis-common-protos<2.0.dev0,>=1.56.2 in /usr/local/lib/python3.10/dist-packages (from google-api-core!=2.0.*,!=2.1.*,!=2.2.*,!=2.3.0,<3.0.0dev,>=1.31.5->google-api-python-client~=2.48.0->google_images_search) (1.63.2)\n",
            "Requirement already satisfied: protobuf!=3.20.0,!=3.20.1,!=4.21.0,!=4.21.1,!=4.21.2,!=4.21.3,!=4.21.4,!=4.21.5,<5.0.0.dev0,>=3.19.5 in /usr/local/lib/python3.10/dist-packages (from google-api-core!=2.0.*,!=2.1.*,!=2.2.*,!=2.3.0,<3.0.0dev,>=1.31.5->google-api-python-client~=2.48.0->google_images_search) (3.20.3)\n",
            "Requirement already satisfied: cachetools<6.0,>=2.0.0 in /usr/local/lib/python3.10/dist-packages (from google-auth<3.0.0dev,>=1.16.0->google-api-python-client~=2.48.0->google_images_search) (5.3.3)\n",
            "Requirement already satisfied: pyasn1-modules>=0.2.1 in /usr/local/lib/python3.10/dist-packages (from google-auth<3.0.0dev,>=1.16.0->google-api-python-client~=2.48.0->google_images_search) (0.4.0)\n",
            "Requirement already satisfied: rsa<5,>=3.1.4 in /usr/local/lib/python3.10/dist-packages (from google-auth<3.0.0dev,>=1.16.0->google-api-python-client~=2.48.0->google_images_search) (4.9)\n",
            "Requirement already satisfied: pyparsing!=3.0.0,!=3.0.1,!=3.0.2,!=3.0.3,<4,>=2.4.2 in /usr/local/lib/python3.10/dist-packages (from httplib2<1dev,>=0.15.0->google-api-python-client~=2.48.0->google_images_search) (3.1.2)\n",
            "Requirement already satisfied: pyasn1<0.7.0,>=0.4.6 in /usr/local/lib/python3.10/dist-packages (from pyasn1-modules>=0.2.1->google-auth<3.0.0dev,>=1.16.0->google-api-python-client~=2.48.0->google_images_search) (0.6.0)\n",
            "Building wheels for collected packages: termcolor\n",
            "  Building wheel for termcolor (setup.py) ... \u001b[?25l\u001b[?25hdone\n",
            "  Created wheel for termcolor: filename=termcolor-1.1.0-py3-none-any.whl size=4832 sha256=0ed7e6428cd27fa361da9b7258108ce623d24b113855c7b563f030f96324cd99\n",
            "  Stored in directory: /root/.cache/pip/wheels/a1/49/46/1b13a65d8da11238af9616b00fdde6d45b0f95d9291bac8452\n",
            "Successfully built termcolor\n",
            "Installing collected packages: termcolor, pyfiglet, colorama, python-resize-image, google-api-python-client, google_images_search\n",
            "  Attempting uninstall: termcolor\n",
            "    Found existing installation: termcolor 2.4.0\n",
            "    Uninstalling termcolor-2.4.0:\n",
            "      Successfully uninstalled termcolor-2.4.0\n",
            "  Attempting uninstall: google-api-python-client\n",
            "    Found existing installation: google-api-python-client 2.84.0\n",
            "    Uninstalling google-api-python-client-2.84.0:\n",
            "      Successfully uninstalled google-api-python-client-2.84.0\n",
            "Successfully installed colorama-0.4.6 google-api-python-client-2.48.0 google_images_search-1.4.7 pyfiglet-0.8.post1 python-resize-image-1.1.20 termcolor-1.1.0\n"
          ]
        }
      ],
      "source": [
        "!pip install google_images_search"
      ]
    },
    {
      "cell_type": "code",
      "source": [
        "from google_images_search import GoogleImagesSearch\n",
        "import zipfile\n",
        "import os\n",
        "# you can provide API key and CX using arguments,#custom search engine id\n",
        "gis = GoogleImagesSearch('YOUR_API' , 'CX' , validate_images=True)\n",
        "def search(keyword,imageNumber):\n",
        "    _search_params={\n",
        "        'q':keyword,\n",
        "        'num':imageNumber,\n",
        "    }\n",
        "    gis.search(search_params=_search_params, path_to_dir='./rgbimages/')\n",
        "search('Cars',100)"
      ],
      "metadata": {
        "id": "s3zuNWMNfK6l"
      },
      "execution_count": null,
      "outputs": []
    },
    {
      "cell_type": "code",
      "source": [
        "from PIL import Image\n",
        "import matplotlib.pyplot as plt\n",
        "import os"
      ],
      "metadata": {
        "id": "sZ1YDPoRmpx2"
      },
      "execution_count": null,
      "outputs": []
    },
    {
      "cell_type": "code",
      "source": [
        "import cv2\n",
        "from google.colab.patches import cv2_imshow\n"
      ],
      "metadata": {
        "id": "pqf0ddVaphNr"
      },
      "execution_count": null,
      "outputs": []
    },
    {
      "cell_type": "code",
      "source": [
        "\n",
        "def resize_images(input_directory, output_directory, scale_percent):\n",
        "    # Create output directory if it doesn't exist\n",
        "    if not os.path.exists(input_directory):\n",
        "        print(f\"Error: Input directory '{input_directory}' not found.\")\n",
        "        return\n",
        "\n",
        "    if not os.path.exists(output_directory):\n",
        "        os.makedirs(output_directory)\n",
        "\n",
        "    # List all files in the input directory\n",
        "    image_files = os.listdir(input_directory)\n",
        "\n",
        "    try:\n",
        "        for image_file in image_files:\n",
        "            img_path = os.path.join(input_directory, image_file)\n",
        "            img = cv2.imread(img_path, cv2.IMREAD_UNCHANGED)\n",
        "\n",
        "            # Get original image dimensions\n",
        "            height, width = img.shape[:2]\n",
        "\n",
        "            # Calculate new dimensions\n",
        "            new_width = int(width * scale_percent / 100)\n",
        "            new_height = int(height * scale_percent / 100)\n",
        "\n",
        "            # Resize image\n",
        "            resized_img = cv2.resize(img, (new_width, new_height), interpolation=cv2.INTER_AREA)\n",
        "\n",
        "            # Write resized image to output directory\n",
        "            output_path = os.path.join(output_directory, image_file)\n",
        "            cv2.imwrite(output_path, resized_img)\n",
        "\n",
        "            print(f\"Resized {image_file} to {new_width}x{new_height}\")\n",
        "\n",
        "        print(\"Resize completed successfully.\")\n",
        "\n",
        "    except Exception as e:\n",
        "        print(f\"Error resizing images: {str(e)}\")\n",
        "\n",
        "\n",
        "\n",
        "\n"
      ],
      "metadata": {
        "id": "FF0BvLTiyRhk"
      },
      "execution_count": null,
      "outputs": []
    },
    {
      "cell_type": "code",
      "source": [
        "if __name__ == \"__main__\":\n",
        "    input_directory = \"/content/rgbimages\"  # Directory containing original images\n",
        "    output_directory = \"resized_images_50percent\"  # Directory where resized images will be saved\n",
        "    scale_percent = 50  # Percentage of original size\n",
        "\n",
        "    resize_images(input_directory, output_directory, scale_percent)"
      ],
      "metadata": {
        "colab": {
          "base_uri": "https://localhost:8080/"
        },
        "id": "Gd2oYM8WE-cU",
        "outputId": "36ae4faf-3cea-4271-9bdf-5dfd59804c39"
      },
      "execution_count": null,
      "outputs": [
        {
          "output_type": "stream",
          "name": "stdout",
          "text": [
            "Resized 231225_r43030.jpg to 1280x1024\n",
            "Resized 9.%20DeLorean-Alpha-5%20%5BDeLorean%5D.jpg to 2000x1125\n",
            "Resized fastest-cars-in-the-world.jpg to 640x360\n",
            "Resized MV5BMTk0ODM1OTIyM15BMl5BanBnXkFtZTcwMjQ0MTQyMw@@._V1_.jpg to 1024x681\n",
            "Resized ef196f60-908e-47e3-a94a-8ee9e06064eb.png to 187x124\n",
            "Resized Best%20family%20cars%20to%20buy%20in%202023.jpg to 2185x1229\n",
            "Resized 11-w-Utopia_1.jpg to 500x281\n",
            "Resized 00722-Cars-_Blackstone__Rounded_13457a25-19b0-4840-9fa0-bb5cddd25a3c.webp to 320x510\n",
            "Resized MV5BMzMwYWZkZjctZTU5Ny00MDNiLTlkMmYtNzkyODMwMGUxYzA2XkEyXkFqcGdeQXVyNzU1NzE3NTg@._V1_QL75_UX500_CR0,47,500,281_.jpg to 250x140\n",
            "Resized 00722-Cars-_Blackstone__Rounded_300x.png to 150x239\n",
            "Resized coolest-cars-feature.jpg to 640x360\n",
            "Resized H4sIAAAAAAAAAFvzloG1tIiBOTrayfuvpGh6-m1zJgaGigIGBgZGoDhTtNOaz-I_2DhCHsCElzEwF-SlMwJZKUycmbmJ6an6QD4_I3taTmV-aUkxO0grj5eHtccF31_KMRG3N0rmlvLsX25VzsAK1MUkCSSYNwAJvmlAguMxA5gEmQcSZGgC8ZksmRkYWCuAjEgGEBDUMCASCLO7uIY4evoEAwBqwxYY2QAAAA.jpg to 700x300\n",
            "Resized 1920x600_A224424_large.jpg to 960x300\n",
            "Resized Used-2014-Audi-R8-42-quattro.jpg to 960x640\n",
            "Resized 2016-10best-cars-lead-photo-664005-s-original.jpg to 320x195\n",
            "Resized Macho_Cars_Final.jpeg to 1250x675\n",
            "Resized 18015-MC20BluInfinito-scaled-e1707920217641.jpg to 960x540\n",
            "Resized honda-prelude-concept-front-three-quarters-653927960f1f4.jpg to 490x300\n",
            "Resized 107296478-1694015564259-Microlino.jpg to 2000x1126\n",
            "Resized 00722-Cars-_Blackstone__Rounded_13457a25-19b0-4840-9fa0-bb5cddd25a3c_300x.webp to 150x239\n",
            "Resized 102707797_Electric-Car_t800.jpg to 400x322\n",
            "Resized 202301-lead-value-car-winners-scaled.jpg to 600x400\n",
            "Resized ioniq5n.jpeg to 2007x1129\n",
            "Resized 1af0ca3f-5236-47a5-a487-32b49ec94f27.png to 187x124\n",
            "Resized bmw-vision-neue-klasse-concept-car5-64ecd9b81229e.jpg to 320x319\n",
            "Resized Sell_Mobile.jpg to 390x532\n",
            "Resized ZF_CES22_Automated-Driving_Mood_1_5_2_2048px.jpg to 1024x410\n",
            "Resized Used-2022-Ferrari-SF90-Stradale.jpg to 960x640\n",
            "Resized genesis-electrified-2024-editorial.jpg to 600x400\n",
            "Resized 417157389955.jpg to 326x326\n",
            "Resized future-supercars.jpg to 640x360\n",
            "Resized MV5BMTg5NzY0MzA2MV5BMl5BanBnXkFtZTYwNDc3NTc2._V1_FMjpg_UX1000_.jpg to 500x741\n",
            "Resized callouts1-ex30-4x3-mobile-tablet.jpg to 960x720\n",
            "Resized 0fdac51ab4f14c059952cb8333c7ee51.jpg to 300x486\n",
            "Resized 2020-Porsche-911.png to 320x240\n",
            "Resized 71V3NkmkAZL._AC_UF894,1000_QL80_.jpg to 415x500\n",
            "Resized scale.jpg to 220x124\n",
            "Resized n035065_2028may16_world_cars-road-trip-attraction_16-9_tcm1861-221737.jpg to 980x551\n",
            "Resized maxresdefault.jpg to 640x360\n",
            "Resized 92bc146b.jpg to 958x398\n",
            "Resized 71V3NkmkAZL.jpg to 1000x1000\n",
            "Resized img-4437-65c688a2367df.jpg to 490x300\n",
            "Resized dw-burnett-pcoty22-8260-1671143390.jpg to 320x319\n",
            "Resized image.jpg to 350x232\n",
            "Resized future-cars-2023-2026.webp to 960x720\n",
            "Resized p_cars_19643_4405006d.jpeg to 270x405\n",
            "Resized bugatti-chiron-sport-mid-engined-w16-engine-exclusive-news-photo-1600704674.jpg to 490x327\n",
            "Resized 2024-Honda-Accord-front_52722_032_1810x721_GC_cropped.png to 905x360\n",
            "Resized hqdefault.jpg to 240x180\n",
            "Resized cars.jpg to 500x281\n",
            "Resized Cars_2006.jpg to 129x191\n",
            "Resized 2024-Hyundai-Kona-Electric-Gear.jpg to 1200x900\n",
            "Resized future-cars-2023-2026.jpg to 960x540\n",
            "Error resizing images: 'NoneType' object has no attribute 'shape'\n"
          ]
        }
      ]
    }
  ]
}