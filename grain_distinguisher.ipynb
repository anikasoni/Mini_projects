{
  "nbformat": 4,
  "nbformat_minor": 0,
  "metadata": {
    "colab": {
      "provenance": [],
      "mount_file_id": "1mB7aNNMEOcstKk-KdGC9tMpYwjW5CnJ8",
      "authorship_tag": "ABX9TyMVj0p8nGFbTGra596EwUFH",
      "include_colab_link": true
    },
    "kernelspec": {
      "name": "python3",
      "display_name": "Python 3"
    },
    "language_info": {
      "name": "python"
    }
  },
  "cells": [
    {
      "cell_type": "markdown",
      "metadata": {
        "id": "view-in-github",
        "colab_type": "text"
      },
      "source": [
        "<a href=\"https://colab.research.google.com/github/anikasoni/grain-distinguisher/blob/main/grain_distinguisher.ipynb\" target=\"_parent\"><img src=\"https://colab.research.google.com/assets/colab-badge.svg\" alt=\"Open In Colab\"/></a>"
      ]
    },
    {
      "cell_type": "code",
      "source": [],
      "metadata": {
        "id": "3eFnadg6A5tx"
      },
      "execution_count": null,
      "outputs": []
    },
    {
      "cell_type": "code",
      "execution_count": null,
      "metadata": {
        "id": "5eF5IcM99OSg",
        "colab": {
          "base_uri": "https://localhost:8080/"
        },
        "outputId": "f87c2b24-92b2-436b-b976-cdc43a87db36"
      },
      "outputs": [
        {
          "output_type": "execute_result",
          "data": {
            "text/plain": [
              "[]"
            ]
          },
          "metadata": {},
          "execution_count": 6
        }
      ],
      "source": [
        "!pip install landingai &> /dev/null\n",
        "from PIL import Image\n",
        "from landingai.predict import Predictor\n",
        "# Enter your API Key\n",
        "endpoint_id = \"9dff6f2e-ba9b-4452-9304-5332812ea746\"\n",
        "api_key = \"land_sk_zHRSZMLzltyERvQqYZG0wwu3dPHzAPMaHUb6psyWq3xgE7mWE7\"\n",
        "# Load your image\n",
        "image = Image.open(\"/content/Ab_food_06.jpg\")\n",
        "# Run inference\n",
        "predictor = Predictor(endpoint_id, api_key=api_key)\n",
        "predictions = predictor.predict(image)\n",
        "print(predictions)"
      ]
    },
    {
      "cell_type": "code",
      "source": [],
      "metadata": {
        "id": "S4fyoqYlAzW-"
      },
      "execution_count": null,
      "outputs": []
    },
    {
      "cell_type": "code",
      "source": [],
      "metadata": {
        "id": "a3utbLGgAzTy"
      },
      "execution_count": null,
      "outputs": []
    }
  ]
}