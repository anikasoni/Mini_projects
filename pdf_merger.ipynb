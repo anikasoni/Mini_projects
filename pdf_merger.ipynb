{
  "nbformat": 4,
  "nbformat_minor": 0,
  "metadata": {
    "colab": {
      "provenance": [],
      "authorship_tag": "ABX9TyO93av0LxffTIdCpFk7PPq6",
      "include_colab_link": true
    },
    "kernelspec": {
      "name": "python3",
      "display_name": "Python 3"
    },
    "language_info": {
      "name": "python"
    }
  },
  "cells": [
    {
      "cell_type": "markdown",
      "metadata": {
        "id": "view-in-github",
        "colab_type": "text"
      },
      "source": [
        "<a href=\"https://colab.research.google.com/github/anikasoni/Pdf-merging/blob/main/pdf_merger.ipynb\" target=\"_parent\"><img src=\"https://colab.research.google.com/assets/colab-badge.svg\" alt=\"Open In Colab\"/></a>"
      ]
    },
    {
      "cell_type": "code",
      "execution_count": 19,
      "metadata": {
        "colab": {
          "base_uri": "https://localhost:8080/"
        },
        "id": "NU-HEURJnOns",
        "outputId": "ff853729-0710-4d67-a7fd-be767b12ccac"
      },
      "outputs": [
        {
          "output_type": "stream",
          "name": "stdout",
          "text": [
            "Requirement already satisfied: PyPDF2 in /usr/local/lib/python3.10/dist-packages (3.0.1)\n"
          ]
        }
      ],
      "source": [
        "!pip install PyPDF2"
      ]
    },
    {
      "cell_type": "code",
      "source": [
        "import os\n",
        "from PyPDF2 import PdfReader, PdfWriter\n",
        "def merge_pdf(input_pdf1,input_pdf2, output_dir):\n",
        "    if not os.path.exists(output_dir):\n",
        "        os.makedirs(output_dir)\n",
        "\n",
        "    pdf1 = PdfReader(open(input_pdf1, \"rb\"))\n",
        "    pdf2 = PdfReader(open(input_pdf2, \"rb\"))\n",
        "\n",
        "\n",
        "    total_pages = len(pdf1.pages)+len(pdf2.pages)\n",
        "    join_writer = PdfWriter()\n",
        "    for page_num in range(total_pages):\n",
        "        if page_num < len(pdf1.pages):\n",
        "            join_writer.add_page(pdf1.pages[page_num])\n",
        "\n",
        "        else:\n",
        "            join_writer.add_page(pdf2.pages[page_num-len(pdf1.pages)])\n",
        "    joined_filename = os.path.join(output_dir, 'merged.pdf')\n",
        "\n",
        "    with open(joined_filename, 'wb') as merged_pdf:\n",
        "        join_writer.write(merged_pdf)\n",
        "\n",
        "    print(f'Created: {joined_filename}')\n",
        "\n",
        "\n",
        "if __name__ == \"__main__\":\n",
        "\n",
        "     input_pdf1 = '/content/Research.pdf'  # Replace with the path to your input PDF file\n",
        "     input_pdf2 = '/content/Research.pdf'  # Replace with the path to your input PDF file\n",
        "\n",
        "     output_dir = '/content/ouput'  # Replace with the directory where you want to save the output PDFs\n",
        "\n",
        "     merge_pdf(input_pdf1,input_pdf1, output_dir)\n",
        "\n"
      ],
      "metadata": {
        "colab": {
          "base_uri": "https://localhost:8080/"
        },
        "id": "R5-XEf8gnPjf",
        "outputId": "9d823e82-71b8-4c16-f5ec-7970cdf38f6c"
      },
      "execution_count": 21,
      "outputs": [
        {
          "output_type": "stream",
          "name": "stdout",
          "text": [
            "Created: /content/ouput/merged.pdf\n"
          ]
        }
      ]
    }
  ]
}