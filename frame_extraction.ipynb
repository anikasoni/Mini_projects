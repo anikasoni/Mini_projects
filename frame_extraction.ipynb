{
  "nbformat": 4,
  "nbformat_minor": 0,
  "metadata": {
    "colab": {
      "provenance": [],
      "toc_visible": true,
      "authorship_tag": "ABX9TyNgd/YNIWdZeN51G1C98Ecq",
      "include_colab_link": true
    },
    "kernelspec": {
      "name": "python3",
      "display_name": "Python 3"
    },
    "language_info": {
      "name": "python"
    }
  },
  "cells": [
    {
      "cell_type": "markdown",
      "metadata": {
        "id": "view-in-github",
        "colab_type": "text"
      },
      "source": [
        "<a href=\"https://colab.research.google.com/github/anikasoni/extracting-frames-from-videos/blob/main/frame_extraction.ipynb\" target=\"_parent\"><img src=\"https://colab.research.google.com/assets/colab-badge.svg\" alt=\"Open In Colab\"/></a>"
      ]
    },
    {
      "cell_type": "code",
      "source": [
        "import cv2\n",
        "\n",
        "def FrameCapture(path):\n",
        "    vidObj = cv2.VideoCapture(path)\n",
        "    count = 0\n",
        "    success = 1\n",
        "    while success:\n",
        "        success, image = vidObj.read()\n",
        "        if success: # Check if a frame was read successfully\n",
        "            cv2.imwrite(\"frame%d.jpg\" % count, image) # Use correct string formatting for file name\n",
        "            count += 1\n",
        "        else:\n",
        "            print(\"Failed to read frame.\") # Print a message if reading fails\n",
        "\n",
        "if __name__ == '__main__':\n",
        "    FrameCapture(\"/content/file_example_MP4_480_1_5MG.mp4\") # Verify file path is correct"
      ],
      "metadata": {
        "colab": {
          "base_uri": "https://localhost:8080/"
        },
        "id": "vHk58IfFEfjT",
        "outputId": "2ed51527-cfc1-4054-83bf-d60e35f84dbb"
      },
      "execution_count": 1,
      "outputs": [
        {
          "output_type": "stream",
          "name": "stdout",
          "text": [
            "Failed to read frame.\n"
          ]
        }
      ]
    },
    {
      "cell_type": "code",
      "source": [],
      "metadata": {
        "id": "6GpW0RJRw89z"
      },
      "execution_count": null,
      "outputs": []
    }
  ]
}